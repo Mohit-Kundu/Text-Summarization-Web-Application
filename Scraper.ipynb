{
  "nbformat": 4,
  "nbformat_minor": 0,
  "metadata": {
    "colab": {
      "name": "Scraper.ipynb",
      "provenance": [],
      "collapsed_sections": [],
      "authorship_tag": "ABX9TyOl4fZFz/piXNlKXPatck2A",
      "include_colab_link": true
    },
    "kernelspec": {
      "name": "python3",
      "display_name": "Python 3"
    },
    "language_info": {
      "name": "python"
    }
  },
  "cells": [
    {
      "cell_type": "markdown",
      "metadata": {
        "id": "view-in-github",
        "colab_type": "text"
      },
      "source": [
        "<a href=\"https://colab.research.google.com/github/Mohit-Kundu/Text-Summarization-with-Python/blob/main/Scraper.ipynb\" target=\"_parent\"><img src=\"https://colab.research.google.com/assets/colab-badge.svg\" alt=\"Open In Colab\"/></a>"
      ]
    },
    {
      "cell_type": "code",
      "metadata": {
        "id": "yJl9rG-dKSWH"
      },
      "source": [
        "import bs4 as bs\n",
        "import urllib.request\n",
        "import re"
      ],
      "execution_count": null,
      "outputs": []
    },
    {
      "cell_type": "code",
      "metadata": {
        "id": "yyYV5riNKhjQ"
      },
      "source": [
        "def scraper(url):\n",
        "    article_text = \"\"\n",
        "\n",
        "    user_agent = 'Mozilla/5.0 (Windows; U; Windows NT 5.1; en-US; rv:1.9.0.7) Gecko/2009021910 Firefox/3.0.7'\n",
        "\n",
        "    '''url = \"https://www.newscientist.com/article/2284533-flexible-computer-processor-is-the-most-powerful-plastic-chip-yet/\"\n",
        "    url = \"https://edition.cnn.com/world/live-news/tokyo-2020-olympics-07-23-21-spt/h_3fc99ad3b8f8dd82ac977487dae0f194\"'''\n",
        "    headers={'User-Agent':user_agent,} \n",
        "\n",
        "    request=urllib.request.Request(url,None,headers) #The assembled request\n",
        "    response = urllib.request.urlopen(request)\n",
        "    data = response.read() # The data u need\n",
        "\n",
        "    parsed_article = bs.BeautifulSoup(data, 'lxml')\n",
        "\n",
        "    paragraphs = parsed_article.find_all('p')\n",
        "\n",
        "    for p in paragraphs:\n",
        "        article_text += p.text\n",
        "\n",
        "    # Removing Square Brackets and Extra Spaces\n",
        "    def remove_square_brackets_and_extra_spaces(article_text):\n",
        "        article_text = re.sub(r'\\[[0-9]*\\]', ' ', article_text)\n",
        "        return re.sub(r'\\s+', ' ', article_text)\n",
        "\n",
        "    # Removing special characters and digits\n",
        "    def remove_spl_chars_and_digits(article_text):\n",
        "        formatted_article_text = re.sub('[^a-zA-Z]', ' ', article_text)\n",
        "        return re.sub(r'\\s+', ' ', formatted_article_text)\n",
        "\n",
        "    string = remove_square_brackets_and_extra_spaces(article_text)\n",
        "    body = remove_spl_chars_and_digits(article_text)\n",
        "    print(body)\n",
        "    print(len(body))\n",
        "    return body"
      ],
      "execution_count": null,
      "outputs": []
    }
  ]
}